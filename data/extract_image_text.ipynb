{
  "cells": [
    {
      "cell_type": "code",
      "execution_count": null,
      "metadata": {
        "colab": {
          "base_uri": "https://localhost:8080/"
        },
        "id": "V4ge2JACTQTq",
        "outputId": "ea36761b-3208-4526-ae95-5a5f44c9b6c4"
      },
      "outputs": [],
      "source": [
        "# install\n",
        "!sudo apt install tesseract-ocr\n",
        "!sudo apt-get install tesseract-ocr-deu\n",
        "!pip install pytesseract"
      ]
    },
    {
      "cell_type": "code",
      "execution_count": 3,
      "metadata": {
        "id": "IAfi605vThH4"
      },
      "outputs": [],
      "source": [
        "# load\n",
        "import pytesseract\n",
        "import shutil\n",
        "import os\n",
        "import random\n",
        "try:\n",
        " from PIL import Image\n",
        "except ImportError:\n",
        " import Image"
      ]
    },
    {
      "cell_type": "code",
      "execution_count": null,
      "metadata": {
        "colab": {
          "base_uri": "https://localhost:8080/",
          "height": 651
        },
        "id": "W--toL-RTlMI",
        "outputId": "49395146-6c87-4614-8150-59430067c53a"
      },
      "outputs": [],
      "source": [
        "# upload\n",
        "from google.colab import files\n",
        "f = files.upload()"
      ]
    },
    {
      "cell_type": "code",
      "execution_count": null,
      "metadata": {
        "colab": {
          "base_uri": "https://localhost:8080/"
        },
        "id": "AqzwYPUpX09G",
        "outputId": "d1597858-8584-442c-cd14-59c6fd9b8e7f"
      },
      "outputs": [],
      "source": [
        "# extract text \n",
        "image_path_in_colab='/content/original_33032f98-4549-4b91-9b75-778fb434d060_PXL_20230929_190753382.jpg'\n",
        "extractedInformation = pytesseract.image_to_string(Image.open(image_path_in_colab), lang='deu')\n",
        "j = 999\n",
        "for i, chr in enumerate(extractedInformation):\n",
        "  if(chr.isdigit()): \n",
        "    if i < j: \n",
        "      j = i\n",
        "      break\n",
        "  \n",
        "card = extractedInformation[j:]\n",
        "words = card.split()\n",
        "\n",
        "# clean and format\n",
        "id = words[0]\n",
        "\n",
        "one = words[1:words.index('2.')]\n",
        "two = words[words.index('2.'):words.index('3.')]\n",
        "thr = words[words.index('3.'):]\n",
        "\n",
        "lists = [one, two, thr]\n",
        "\n",
        "quote = '\\\"'\n",
        "\n",
        "for l in lists:\n",
        "  for i, x in enumerate(l):\n",
        "    # WALTER is white on black, not recognized by OCR, capital garbage output\n",
        "    # FIXME: find a more elegant solution to also capture things like WALTERN\n",
        "    if x.isupper():\n",
        "      l[i] = 'WALTER'\n",
        "    l[i].replace('\"', quote)\n",
        "\n",
        "# output json element\n",
        "print(f\"\"\"\n",
        "\"{id}\": {{\n",
        "    \"1\": \"{\" \".join(one[1:])}\",\n",
        "    \"2\": \"{\" \".join(two[1:])}\",\n",
        "    \"3\": \"{\" \".join(thr[1:])}\",\n",
        "    \"flip\": \"\"\n",
        "}}\n",
        "\n",
        "\"\"\")"
      ]
    }
  ],
  "metadata": {
    "colab": {
      "provenance": []
    },
    "kernelspec": {
      "display_name": "Python 3",
      "name": "python3"
    },
    "language_info": {
      "name": "python"
    }
  },
  "nbformat": 4,
  "nbformat_minor": 0
}
